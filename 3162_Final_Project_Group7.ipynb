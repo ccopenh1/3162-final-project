{
  "nbformat": 4,
  "nbformat_minor": 0,
  "metadata": {
    "colab": {
      "provenance": [],
      "authorship_tag": "ABX9TyM/0OFp/xrqrV86pf12WDZj",
      "include_colab_link": true
    },
    "kernelspec": {
      "name": "python3",
      "display_name": "Python 3"
    },
    "language_info": {
      "name": "python"
    }
  },
  "cells": [
    {
      "cell_type": "markdown",
      "metadata": {
        "id": "view-in-github",
        "colab_type": "text"
      },
      "source": [
        "<a href=\"https://colab.research.google.com/github/ccopenh1/3162-final-project/blob/main/3162_Final_Project_Group7.ipynb\" target=\"_parent\"><img src=\"https://colab.research.google.com/assets/colab-badge.svg\" alt=\"Open In Colab\"/></a>"
      ]
    },
    {
      "cell_type": "markdown",
      "source": [
        "# DATASET:https://www.kaggle.com/datasets/saketk511/2019-2024-us-stock-market-data/data"
      ],
      "metadata": {
        "id": "-keeDXQZvsV_"
      }
    },
    {
      "cell_type": "markdown",
      "source": [
        "# INTRODUCTION"
      ],
      "metadata": {
        "id": "zAYPKNCmuYmc"
      }
    },
    {
      "cell_type": "markdown",
      "source": [
        "\n",
        "In today's financial landscape, accurate predictions of stock market prices are crucial for investors to make informed decisions and optimize their portfolios. As aspiring data scientists, we recognize the significance of leveraging regression techniques to forecast stock prices. Our project aims to develop regression models that can effectively predict stock market prices based on historical data. By analyzing various features and market indicators, we seek to provide valuable insights that aid investors in navigating the dynamic stock market environment.\n",
        "\n",
        "Data: https://www.kaggle.com/datasets/saketk511/2019-2024-us-stock-market-data/data\n",
        "\n",
        "The dataset we will utilize for our project is sourced from an extensive examination of market dynamics spanning a five-year period, with 425.48 kB of data in 39 columns. This comprehensive dataset encompasses a wide range of market sectors, including energy commodities such as natural gas and crude oil, metals like copper, platinum, silver, and gold, cryptocurrencies including Bitcoin and Ethereum, and key stock indices and companies like the S&P 500, Nasdaq 100, Apple, Tesla, Microsoft, Google, Nvidia, Berkshire Hathaway, Netflix, Amazon, and Meta Platforms. It serves as a valuable resource for analyzing trends and patterns in global markets, offering insights into price fluctuations and trading volumes across a diverse portfolio. The dataset comprises detailed information on various market parameters, including: Date: Recorded data formatted as DD-MM-YYYY. Price and Volume Data: Includes prices and trading volumes for natural gas, crude oil, copper, platinum, Ethereum, Bitcoin, silver, and gold. Stock Indices and Companies: Provides stock prices and trading volumes for key indices such as the S&P 500 and Nasdaq 100, as well as individual companies like Apple, Tesla, Microsoft, Google, Nvidia, Berkshire Hathaway, Netflix, Amazon, and Meta Platforms. With 26 columns encapsulating price and volume data across different market sectors, this dataset offers a wealth of opportunities for in-depth analysis and modeling to predict stock market prices with regression techniques.\n"
      ],
      "metadata": {
        "id": "3sNP-hh7wJTx"
      }
    },
    {
      "cell_type": "markdown",
      "source": [
        "# ABOUT THE DATA"
      ],
      "metadata": {
        "id": "26ZqiI63ucme"
      }
    },
    {
      "cell_type": "markdown",
      "source": [],
      "metadata": {
        "id": "EQbCUReFwKT9"
      }
    },
    {
      "cell_type": "markdown",
      "source": [
        "#DATA UNDERSTANDING/VISUALIZATION"
      ],
      "metadata": {
        "id": "niBCnZTeujKy"
      }
    },
    {
      "cell_type": "markdown",
      "source": [],
      "metadata": {
        "id": "u73aRwKcwLXz"
      }
    },
    {
      "cell_type": "markdown",
      "source": [
        "#DATA PRE-PROCESSING"
      ],
      "metadata": {
        "id": "EgHMRKVhu0JZ"
      }
    },
    {
      "cell_type": "markdown",
      "source": [],
      "metadata": {
        "id": "o4hzOPfTwMkd"
      }
    },
    {
      "cell_type": "code",
      "source": [],
      "metadata": {
        "id": "u9KkYsWuwM9s"
      },
      "execution_count": null,
      "outputs": []
    },
    {
      "cell_type": "markdown",
      "source": [
        "#MODELING(REGRESSION)"
      ],
      "metadata": {
        "id": "Uv9Zbwk4u9pi"
      }
    },
    {
      "cell_type": "markdown",
      "source": [],
      "metadata": {
        "id": "6ENYlfMCwOCU"
      }
    },
    {
      "cell_type": "code",
      "source": [],
      "metadata": {
        "id": "yLbpFMr4wOXX"
      },
      "execution_count": null,
      "outputs": []
    },
    {
      "cell_type": "markdown",
      "source": [
        "#EVALUATION"
      ],
      "metadata": {
        "id": "S_dt_YXGvLrJ"
      }
    },
    {
      "cell_type": "markdown",
      "source": [],
      "metadata": {
        "id": "FiEWYG_NwPob"
      }
    },
    {
      "cell_type": "code",
      "source": [],
      "metadata": {
        "id": "Yz2UZ7sxwQJi"
      },
      "execution_count": null,
      "outputs": []
    },
    {
      "cell_type": "markdown",
      "source": [
        "#STORYTELLING"
      ],
      "metadata": {
        "id": "IBPH0GKKvBwP"
      }
    },
    {
      "cell_type": "markdown",
      "source": [],
      "metadata": {
        "id": "WPkcdmdowRwi"
      }
    },
    {
      "cell_type": "markdown",
      "source": [
        "#CONCLUSION"
      ],
      "metadata": {
        "id": "YEyuXHATvRyW"
      }
    },
    {
      "cell_type": "markdown",
      "source": [],
      "metadata": {
        "id": "ZKtvorQawS0M"
      }
    },
    {
      "cell_type": "markdown",
      "source": [
        "#IMPACT"
      ],
      "metadata": {
        "id": "vil29ufQvaH_"
      }
    },
    {
      "cell_type": "markdown",
      "source": [],
      "metadata": {
        "id": "AuEbmXrbwTg0"
      }
    },
    {
      "cell_type": "markdown",
      "source": [
        "#REFERENCES"
      ],
      "metadata": {
        "id": "wNkcTXQLvdRC"
      }
    },
    {
      "cell_type": "markdown",
      "source": [
        "Github Repository Link: https://github.com/ccopenh1/3162-final-project\n",
        "\n",
        "\n",
        "Dataset: https://www.kaggle.com/datasets/saketk511/2019-2024-us-stock-market-data/data"
      ],
      "metadata": {
        "id": "qJA8-G48vgrD"
      }
    }
  ]
}